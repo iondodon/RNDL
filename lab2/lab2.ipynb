{
 "cells": [
  {
   "cell_type": "markdown",
   "metadata": {},
   "source": [
    "The goal of this work is to process a text dataset using Neural Networks and Deep Learning\n",
    "word embedding and data analytics methods and to extract knowledge from it. Prepare a report\n",
    "for this work and deposit it on moodle."
   ]
  },
  {
   "cell_type": "markdown",
   "metadata": {},
   "source": [
    "In this work you will use 20 Newsgroup dataset, but you a free to use any text data (UCI datasets\n",
    "repository, kaggle, data.gouv.fr, …) informing the Professor."
   ]
  },
  {
   "cell_type": "markdown",
   "metadata": {},
   "source": [
    "The work should contains at least the following 4 parts:\n",
    "1. Analysis of the text dataset\n",
    "2. Text processing and Transformation\n",
    "3. Apply di erent Neural Networks (NN) embedding techniques\n",
    "4. Clustering and/or classi cation on the embedded data\n",
    "5. Results analysis and visualisation\n",
    "6. Theoretical formalism"
   ]
  },
  {
   "cell_type": "code",
   "execution_count": 206,
   "metadata": {},
   "outputs": [],
   "source": [
    "# In this work you will use 20 Newsgroup dataset\n",
    "from sklearn.datasets import fetch_20newsgroups\n",
    "from sklearn.feature_extraction.text import CountVectorizer\n",
    "from sklearn.feature_extraction.text import TfidfTransformer\n",
    "from sklearn.naive_bayes import MultinomialNB\n",
    "from sklearn.pipeline import Pipeline\n",
    "from sklearn.metrics import classification_report\n",
    "from sklearn.metrics import confusion_matrix\n",
    "from sklearn.model_selection import train_test_split\n",
    "from sklearn.model_selection import GridSearchCV\n",
    "from sklearn.metrics import accuracy_score\n",
    "from sklearn.metrics import f1_score\n",
    "from sklearn.metrics import precision_score\n",
    "from sklearn.metrics import recall_score\n",
    "from sklearn.metrics import roc_auc_score\n",
    "from sklearn.metrics import roc_curve\n",
    "from sklearn.metrics import auc\n",
    "import matplotlib.pyplot as plt\n",
    "import numpy as np\n",
    "import pandas as pd\n",
    "import seaborn as sns\n",
    "import pickle\n",
    "import os\n",
    "import sys\n",
    "import time\n",
    "import warnings\n",
    "warnings.filterwarnings(\"ignore\")\n",
    "from sklearn.feature_extraction.text import TfidfVectorizer"
   ]
  },
  {
   "cell_type": "code",
   "execution_count": 207,
   "metadata": {},
   "outputs": [
    {
     "name": "stdout",
     "output_type": "stream",
     "text": [
      "['alt.atheism', 'comp.graphics', 'sci.med', 'soc.religion.christian']\n",
      "From: sd345@city.ac.uk (Michael Collier)\n",
      "Subject: Converting images to HP LaserJet III?\n",
      "Nntp-Posting-Host: hampton\n",
      "Organization: The City University\n",
      "Lines: 14\n",
      "\n",
      "Does anyone know of a good way (standard PC application/PD utility) to\n",
      "convert tif/img/tga files into LaserJet III format.  We would also like to\n",
      "do the same, converting to HPGL (HP plotter) files.\n",
      "\n",
      "Please email any response.\n",
      "\n",
      "Is this the correct group?\n",
      "\n",
      "Thanks in advance.  Michael.\n",
      "-- \n",
      "Michael Collier (Programmer)                 The Computer Unit,\n",
      "Email: M.P.Collier@uk.ac.city                The City University,\n",
      "Tel: 071 477-8000 x3769                      London,\n",
      "Fax: 071 477-8565                            EC1V 0HB.\n",
      "\n"
     ]
    }
   ],
   "source": [
    "# Analyse the dataset : the context, size, difficulties, detect the objectives.\n",
    "\n",
    "categories = ['alt.atheism', 'soc.religion.christian', 'comp.graphics', 'sci.med']\n",
    "\n",
    "# Load the 20 newsgroups dataset\n",
    "newsgroups_train = fetch_20newsgroups(subset='train', categories=categories, shuffle=True, random_state=42)\n",
    "newsgroups_test = fetch_20newsgroups(subset='test', categories=categories, shuffle=True, random_state=42)\n",
    "\n",
    "# the context of the dataset\n",
    "print(newsgroups_train.target_names)\n",
    "print(newsgroups_train.data[0])\n"
   ]
  },
  {
   "cell_type": "code",
   "execution_count": 208,
   "metadata": {},
   "outputs": [
    {
     "name": "stdout",
     "output_type": "stream",
     "text": [
      "2257\n",
      "1502\n"
     ]
    }
   ],
   "source": [
    "# analyse the size of the dataset\n",
    "print(len(newsgroups_train.data))\n",
    "print(len(newsgroups_test.data))"
   ]
  },
  {
   "cell_type": "code",
   "execution_count": 209,
   "metadata": {},
   "outputs": [],
   "source": [
    "# Text Processing and Transformation\n",
    "# For this part, you should use scikit-learn and you can follow the tutorial:\n",
    "# https://scikit-learn.org/stable/tutorial/text_analytics/working_with_text_data.html#tutorial-setup\n",
    "\n",
    "# Assign a fixed integer id to each word occurring in any document of the training set (for instance by building a dictionary from words to integer indices)\n",
    "\n",
    "\n",
    "def build_dictionary(data):\n",
    "    dictionary = {}\n",
    "    for doc in data:\n",
    "        for word in doc.split():\n",
    "            if word not in dictionary:\n",
    "                dictionary[word] = len(dictionary)\n",
    "    return dictionary\n",
    "\n",
    "\n",
    "data = newsgroups_train.data\n",
    "dictionary = build_dictionary(newsgroups_train.data)\n",
    "\n",
    "\n",
    "# For each document #i, count the number of occurrences of each word w and store it in X[i, j] as the value of feature #j where j is the index of word w in the dictionary\n",
    "def build_X(data, dictionary):\n",
    "    X = np.zeros((len(data), len(dictionary)), dtype=np.int)\n",
    "    for i, doc in enumerate(data):\n",
    "        for word in doc.split():\n",
    "            X[i, dictionary[word]] += 1\n",
    "    return X\n",
    "\n",
    "X = build_X(data, dictionary)"
   ]
  },
  {
   "cell_type": "code",
   "execution_count": 210,
   "metadata": {},
   "outputs": [
    {
     "name": "stdout",
     "output_type": "stream",
     "text": [
      "  (0, 6)\t1\n",
      "  (0, 7)\t4\n",
      "  (0, 12)\t1\n",
      "  (0, 18)\t1\n",
      "  (0, 20)\t1\n",
      "  (0, 21)\t1\n",
      "  (0, 22)\t1\n",
      "  (0, 24)\t1\n",
      "  (0, 25)\t1\n",
      "  (0, 30)\t1\n",
      "  (0, 32)\t2\n",
      "  (0, 33)\t1\n",
      "  (0, 37)\t1\n",
      "  (0, 38)\t1\n",
      "  (0, 39)\t1\n",
      "  (0, 40)\t1\n",
      "  (0, 41)\t5\n",
      "  (0, 43)\t2\n",
      "  (0, 49)\t2\n",
      "  (0, 50)\t1\n",
      "  (0, 53)\t1\n",
      "  (0, 54)\t1\n",
      "  (0, 57)\t1\n",
      "  (0, 70)\t2\n",
      "  (0, 72)\t1\n",
      "  :\t:\n",
      "  (2256, 2743)\t1\n",
      "  (2256, 2814)\t1\n",
      "  (2256, 3446)\t1\n",
      "  (2256, 3515)\t1\n",
      "  (2256, 6668)\t1\n",
      "  (2256, 9242)\t1\n",
      "  (2256, 9881)\t1\n",
      "  (2256, 12086)\t1\n",
      "  (2256, 16272)\t1\n",
      "  (2256, 18042)\t1\n",
      "  (2256, 18745)\t1\n",
      "  (2256, 18828)\t2\n",
      "  (2256, 19531)\t1\n",
      "  (2256, 20240)\t2\n",
      "  (2256, 21061)\t1\n",
      "  (2256, 23099)\t1\n",
      "  (2256, 25390)\t3\n",
      "  (2256, 28193)\t1\n",
      "  (2256, 32370)\t1\n",
      "  (2256, 32371)\t1\n",
      "  (2256, 32372)\t1\n",
      "  (2256, 36465)\t1\n",
      "  (2256, 38349)\t2\n",
      "  (2256, 39964)\t1\n",
      "  (2256, 63038)\t2\n"
     ]
    }
   ],
   "source": [
    "# Tokenizing text with scikit-learn\n",
    "\n",
    "\n",
    "def tokenize(data, dictionary):\n",
    "    vectorizer = CountVectorizer(vocabulary=dictionary)\n",
    "    X = vectorizer.fit_transform(data)\n",
    "    return X\n",
    "\n",
    "\n",
    "X = tokenize(newsgroups_train.data, dictionary)\n",
    "print(X)"
   ]
  },
  {
   "cell_type": "code",
   "execution_count": 211,
   "metadata": {},
   "outputs": [
    {
     "name": "stdout",
     "output_type": "stream",
     "text": [
      "  (0, 66443)\t0.33382329100385516\n",
      "  (0, 66168)\t0.1600976026643201\n",
      "  (0, 51318)\t0.23512011093968901\n",
      "  (0, 40868)\t0.11691909504979228\n",
      "  (0, 40140)\t0.16183455171633535\n",
      "  (0, 32452)\t0.13840804302402393\n",
      "  (0, 25953)\t0.4258541770474272\n",
      "  (0, 24016)\t0.04882171577232993\n",
      "  (0, 18419)\t0.13268998881837948\n",
      "  (0, 14034)\t0.06650905416446005\n",
      "  (0, 12086)\t0.02284345936023963\n",
      "  (0, 11588)\t0.09029694329795517\n",
      "  (0, 11233)\t0.13536985796475323\n",
      "  (0, 8479)\t0.11396004951458882\n",
      "  (0, 7363)\t0.08895769592383071\n",
      "  (0, 6675)\t0.10418638634047582\n",
      "  (0, 5458)\t0.0930013435412932\n",
      "  (0, 2793)\t0.07337861698182968\n",
      "  (0, 2457)\t0.0930013435412932\n",
      "  (0, 2428)\t0.12614447650727276\n",
      "  (0, 2399)\t0.046446684144222664\n",
      "  (0, 2376)\t0.022752590230327396\n",
      "  (0, 1592)\t0.09344748705583601\n",
      "  (0, 1334)\t0.024059020285550552\n",
      "  (0, 640)\t0.06402924290015559\n",
      "  :\t:\n",
      "  (2256, 1099)\t0.07496228611107417\n",
      "  (2256, 1053)\t0.10100422034712904\n",
      "  (2256, 864)\t0.1290659155273912\n",
      "  (2256, 675)\t0.061666226927635195\n",
      "  (2256, 527)\t0.05039405500374404\n",
      "  (2256, 498)\t0.0940124916663036\n",
      "  (2256, 437)\t0.05091349214169276\n",
      "  (2256, 435)\t0.0847605332387662\n",
      "  (2256, 434)\t0.12864745635890312\n",
      "  (2256, 378)\t0.07791856549402262\n",
      "  (2256, 303)\t0.028663943959783736\n",
      "  (2256, 278)\t0.08597284063415553\n",
      "  (2256, 272)\t0.055125891716942356\n",
      "  (2256, 270)\t0.04547670569668218\n",
      "  (2256, 265)\t0.05172492199583403\n",
      "  (2256, 184)\t0.05209625879997505\n",
      "  (2256, 165)\t0.03763857610751688\n",
      "  (2256, 111)\t0.06813654723431671\n",
      "  (2256, 103)\t0.05577223125399589\n",
      "  (2256, 101)\t0.04863401138832276\n",
      "  (2256, 57)\t0.032328729580696734\n",
      "  (2256, 53)\t0.040733956377279494\n",
      "  (2256, 41)\t0.18153641804589635\n",
      "  (2256, 22)\t0.062283762485077644\n",
      "  (2256, 18)\t0.10180718444770248\n"
     ]
    }
   ],
   "source": [
    "def tfidf(X):\n",
    "    transformer = TfidfTransformer()\n",
    "    X = transformer.fit_transform(X)\n",
    "    return X\n",
    "\n",
    "\n",
    "X = tfidf(X)\n",
    "\n",
    "print(X)"
   ]
  },
  {
   "cell_type": "code",
   "execution_count": 212,
   "metadata": {},
   "outputs": [
    {
     "name": "stdout",
     "output_type": "stream",
     "text": [
      "[[ 0.04773632 -0.0098836  -0.15603225 -0.04076122  0.0950311 ]\n",
      " [-0.27380687  0.02041226 -0.35173982 -0.06238876  0.05226387]\n",
      " [-0.63629282  0.0140928   0.04450047 -0.06471214  0.01463419]\n",
      " ...\n",
      " [-0.78709114 -0.18422848 -0.7816602   0.09781992  0.68411493]\n",
      " [-1.06335747 -0.12192961 -0.06953645  0.15266028  0.13134892]\n",
      " [-0.28968838 -0.06417686 -0.18007387  0.09793076  0.19547325]]\n"
     ]
    }
   ],
   "source": [
    "from gensim.models.doc2vec import Doc2Vec, TaggedDocument\n",
    "\n",
    "\n",
    "def build_doc2vec(data):\n",
    "    documents = [TaggedDocument(doc, [i]) for i, doc in enumerate(data)]\n",
    "    model = Doc2Vec(documents, vector_size=5, window=2, min_count=1, workers=4)\n",
    "    return model\n",
    "\n",
    "\n",
    "model = build_doc2vec(newsgroups_train.data)\n",
    "\n",
    "\n",
    "def build_doc2vec_X(data, model):\n",
    "    X = np.zeros((len(data), 5))\n",
    "    for i, doc in enumerate(data):\n",
    "        X[i] = model.infer_vector(doc.split())\n",
    "    return X\n",
    "\n",
    "\n",
    "X_Doc2Vec = build_doc2vec_X(newsgroups_train.data, model)\n",
    "print(X_Doc2Vec)"
   ]
  },
  {
   "cell_type": "code",
   "execution_count": 213,
   "metadata": {},
   "outputs": [
    {
     "name": "stderr",
     "output_type": "stream",
     "text": [
      "Truncation was not explicitly activated but `max_length` is provided a specific value, please use `truncation=True` to explicitly truncate examples to max length. Defaulting to 'longest_first' truncation strategy. If you encode pairs of sequences (GLUE-style) with the tokenizer you can select this strategy more precisely by providing a specific strategy to `truncation`.\n"
     ]
    },
    {
     "name": "stdout",
     "output_type": "stream",
     "text": [
      "[[ 101. 2013. 1024. ...    0.    0.    0.]\n",
      " [ 101. 2013. 1024. ...    0.    0.    0.]\n",
      " [ 101. 2013. 1024. ...    0.    0.    0.]\n",
      " ...\n",
      " [ 101. 2013. 1024. ... 1012. 4895.  102.]\n",
      " [ 101. 2013. 1024. ... 5653. 2075.  102.]\n",
      " [ 101. 2013. 1024. ...    0.    0.    0.]]\n"
     ]
    }
   ],
   "source": [
    "# BERT model\n",
    "def build_bert_X(data):\n",
    "    from transformers import BertTokenizer\n",
    "    tokenizer = BertTokenizer.from_pretrained('bert-base-uncased')\n",
    "    X = np.zeros((len(data), 768))\n",
    "    for i, doc in enumerate(data):\n",
    "        X[i] = tokenizer.encode(doc, add_special_tokens=True, max_length=768, pad_to_max_length=True)\n",
    "    return X\n",
    "\n",
    "\n",
    "X_bert = build_bert_X(newsgroups_train.data)\n",
    "print(X_bert)"
   ]
  }
 ],
 "metadata": {
  "interpreter": {
   "hash": "5328ad86473b9d9451a85e8e3c047fbfd3cd6b0ffc40448c02e5024d3d4459e7"
  },
  "kernelspec": {
   "display_name": "Python 3.10.4 ('.venv': venv)",
   "language": "python",
   "name": "python3"
  },
  "language_info": {
   "codemirror_mode": {
    "name": "ipython",
    "version": 3
   },
   "file_extension": ".py",
   "mimetype": "text/x-python",
   "name": "python",
   "nbconvert_exporter": "python",
   "pygments_lexer": "ipython3",
   "version": "3.10.4"
  },
  "orig_nbformat": 4
 },
 "nbformat": 4,
 "nbformat_minor": 2
}
